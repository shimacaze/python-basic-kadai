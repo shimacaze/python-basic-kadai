{
  "nbformat": 4,
  "nbformat_minor": 0,
  "metadata": {
    "colab": {
      "provenance": []
    },
    "kernelspec": {
      "name": "python3",
      "display_name": "Python 3"
    },
    "language_info": {
      "name": "python"
    }
  },
  "cells": [
    {
      "cell_type": "code",
      "execution_count": 7,
      "metadata": {
        "colab": {
          "base_uri": "https://localhost:8080/"
        },
        "id": "nPf9OKduWsJ9",
        "outputId": "8e0d0a8e-9ae8-45a8-8c62-18ebb6c94473"
      },
      "outputs": [
        {
          "output_type": "execute_result",
          "data": {
            "text/plain": [
              "120"
            ]
          },
          "metadata": {},
          "execution_count": 7
        }
      ],
      "source": [
        "def calculate_tax(price, tax):\n",
        "  return price + tax\n",
        "\n",
        "calculate_tax(110, 10)"
      ]
    }
  ]
}
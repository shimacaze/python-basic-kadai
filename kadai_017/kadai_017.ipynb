{
  "nbformat": 4,
  "nbformat_minor": 0,
  "metadata": {
    "colab": {
      "provenance": []
    },
    "kernelspec": {
      "name": "python3",
      "display_name": "Python 3"
    },
    "language_info": {
      "name": "python"
    }
  },
  "cells": [
    {
      "cell_type": "code",
      "execution_count": 4,
      "metadata": {
        "colab": {
          "base_uri": "https://localhost:8080/"
        },
        "id": "tEGNY_gzF4Mx",
        "outputId": "d863f547-6f8a-4c18-c800-a8cd86ded971"
      },
      "outputs": [
        {
          "output_type": "stream",
          "name": "stdout",
          "text": [
            "侍太郎は大人である\n",
            "侍花子は大人である\n",
            "侍一郎は大人でない\n",
            "侍二郎は大人でない\n"
          ]
        }
      ],
      "source": [
        "class Human:\n",
        "  def __init__(self, name, age):\n",
        "    self.name = name\n",
        "    self.age = age\n",
        "\n",
        "  def check_adult(self):\n",
        "    if self.age >= 20:\n",
        "      print(f\"{self.name}は大人である\")\n",
        "    else:\n",
        "      print(f\"{self.name}は大人でない\")\n",
        "\n",
        "humans = [\n",
        "    Human(\"侍太郎\", 36),\n",
        "    Human(\"侍花子\", 25),\n",
        "    Human(\"侍一郎\", 15),\n",
        "    Human(\"侍二郎\", 18)\n",
        "]\n",
        "\n",
        "for human in humans:\n",
        "  human.check_adult()\n",
        "\n",
        "\n"
      ]
    }
  ]
}